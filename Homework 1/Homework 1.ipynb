{
 "cells": [
  {
   "cell_type": "markdown",
   "id": "d41e4618-79ed-4092-aa6f-506af1a84422",
   "metadata": {},
   "source": [
    "# Homework 1"
   ]
  },
  {
   "cell_type": "markdown",
   "id": "091df0cb-e758-4921-b1aa-196c7df8f837",
   "metadata": {},
   "source": [
    "Dataset contains information on New York City air quality surveillance data.\n",
    "\n",
    "Air pollution is one of the most important environmental threats to urban populations and while all people are exposed, pollutant emissions, levels of exposure, and population vulnerability vary across neighborhoods. Exposures to common air pollutants have been linked to respiratory and cardiovascular diseases, cancers, and premature deaths. These indicators provide a perspective across time and NYC geographies to better characterize air quality and health in NYC. Data can also be explored online at the Environment and Health Data Portal: http://nyc.gov/health/environmentdata.\n",
    "\n",
    "\n",
    "https://catalog.data.gov/dataset/?res_format=CSV ----> Air Quality--->https://catalog.data.gov/dataset/air-quality -------> Download CSV"
   ]
  },
  {
   "cell_type": "code",
   "execution_count": 71,
   "id": "dbb51259-6459-4115-bef2-78eab29f708d",
   "metadata": {},
   "outputs": [],
   "source": [
    "import pandas as pd"
   ]
  },
  {
   "cell_type": "code",
   "execution_count": 73,
   "id": "c2225e68-c66a-4bf1-ad08-2cfc2396ce36",
   "metadata": {},
   "outputs": [],
   "source": [
    "AirQuality = pd.read_csv ('Air_Quality.csv')"
   ]
  },
  {
   "cell_type": "code",
   "execution_count": 75,
   "id": "e814387e-10fe-43e6-867c-540813287480",
   "metadata": {},
   "outputs": [
    {
     "data": {
      "text/plain": [
       "(16218, 12)"
      ]
     },
     "execution_count": 75,
     "metadata": {},
     "output_type": "execute_result"
    }
   ],
   "source": [
    "AirQuality.shape"
   ]
  },
  {
   "cell_type": "code",
   "execution_count": 77,
   "id": "b700c1f9-ece5-43f4-9282-8ba78f478cc6",
   "metadata": {},
   "outputs": [
    {
     "name": "stdout",
     "output_type": "stream",
     "text": [
      "    Unique ID  Indicator ID                    Name Measure Measure Info  \\\n",
      "0      172653           375  Nitrogen dioxide (NO2)    Mean          ppb   \n",
      "1      172585           375  Nitrogen dioxide (NO2)    Mean          ppb   \n",
      "2      336637           375  Nitrogen dioxide (NO2)    Mean          ppb   \n",
      "3      336622           375  Nitrogen dioxide (NO2)    Mean          ppb   \n",
      "4      172582           375  Nitrogen dioxide (NO2)    Mean          ppb   \n",
      "5      667327           375  Nitrogen dioxide (NO2)    Mean          ppb   \n",
      "6      172607           375  Nitrogen dioxide (NO2)    Mean          ppb   \n",
      "7      172675           375  Nitrogen dioxide (NO2)    Mean          ppb   \n",
      "8      175345           375  Nitrogen dioxide (NO2)    Mean          ppb   \n",
      "9      176689           375  Nitrogen dioxide (NO2)    Mean          ppb   \n",
      "10     176682           375  Nitrogen dioxide (NO2)    Mean          ppb   \n",
      "11     336507           375  Nitrogen dioxide (NO2)    Mean          ppb   \n",
      "12     740910           375  Nitrogen dioxide (NO2)    Mean          ppb   \n",
      "13     175348           375  Nitrogen dioxide (NO2)    Mean          ppb   \n",
      "14     175894           375  Nitrogen dioxide (NO2)    Mean          ppb   \n",
      "15     175895           375  Nitrogen dioxide (NO2)    Mean          ppb   \n",
      "16     175349           375  Nitrogen dioxide (NO2)    Mean          ppb   \n",
      "17     176693           375  Nitrogen dioxide (NO2)    Mean          ppb   \n",
      "18     741006           375  Nitrogen dioxide (NO2)    Mean          ppb   \n",
      "19     550028           375  Nitrogen dioxide (NO2)    Mean          ppb   \n",
      "20     336723           375  Nitrogen dioxide (NO2)    Mean          ppb   \n",
      "\n",
      "   Geo Type Name  Geo Join ID                      Geo Place Name  \\\n",
      "0          UHF34          203  Bedford Stuyvesant - Crown Heights   \n",
      "1          UHF34          203  Bedford Stuyvesant - Crown Heights   \n",
      "2          UHF34          204                       East New York   \n",
      "3          UHF34          103                  Fordham - Bronx Pk   \n",
      "4          UHF34          104                Pelham - Throgs Neck   \n",
      "5          UHF34          104                Pelham - Throgs Neck   \n",
      "6          UHF34       306308                     Chelsea-Village   \n",
      "7          UHF34       306308                     Chelsea-Village   \n",
      "8          UHF42          206                        Borough Park   \n",
      "9          UHF42          206                        Borough Park   \n",
      "10         UHF42          106            High Bridge - Morrisania   \n",
      "11         UHF42          106            High Bridge - Morrisania   \n",
      "12         UHF42          106            High Bridge - Morrisania   \n",
      "13         UHF42          209             Bensonhurst - Bay Ridge   \n",
      "14         UHF42          209             Bensonhurst - Bay Ridge   \n",
      "15         UHF42          210       Coney Island - Sheepshead Bay   \n",
      "16         UHF42          210       Coney Island - Sheepshead Bay   \n",
      "17         UHF42          210       Coney Island - Sheepshead Bay   \n",
      "18         UHF42          410                           Rockaways   \n",
      "19            CD          201        Mott Haven and Melrose (CD1)   \n",
      "20            CD          101            Financial District (CD1)   \n",
      "\n",
      "            Time Period  Start_Date  Data Value  Message  \n",
      "0   Annual Average 2011  12/01/2010       25.30      NaN  \n",
      "1   Annual Average 2009  12/01/2008       26.93      NaN  \n",
      "2   Annual Average 2015  01/01/2015       19.09      NaN  \n",
      "3   Annual Average 2015  01/01/2015       19.76      NaN  \n",
      "4   Annual Average 2009  12/01/2008       22.83      NaN  \n",
      "5   Annual Average 2020  01/01/2020       16.19      NaN  \n",
      "6   Annual Average 2009  12/01/2008       38.16      NaN  \n",
      "7   Annual Average 2011  12/01/2010       34.96      NaN  \n",
      "8        Winter 2010-11  12/01/2010       30.10      NaN  \n",
      "9   Annual Average 2013  12/01/2012       20.23      NaN  \n",
      "10  Annual Average 2013  12/01/2012       23.73      NaN  \n",
      "11       Winter 2014-15  12/01/2014       26.00      NaN  \n",
      "12  Annual Average 2021  01/01/2021       18.04      NaN  \n",
      "13       Winter 2010-11  12/01/2010       28.44      NaN  \n",
      "14          Summer 2009  06/01/2009       18.95      NaN  \n",
      "15          Summer 2009  06/01/2009       15.22      NaN  \n",
      "16       Winter 2010-11  12/01/2010       25.70      NaN  \n",
      "17  Annual Average 2013  12/01/2012       16.36      NaN  \n",
      "18  Annual Average 2021  01/01/2021       11.41      NaN  \n",
      "19  Annual Average 2017  01/01/2017       21.25      NaN  \n",
      "20       Winter 2014-15  12/01/2014       30.40      NaN  \n"
     ]
    }
   ],
   "source": [
    "print(AirQuality.head(n = 21))"
   ]
  },
  {
   "cell_type": "code",
   "execution_count": 79,
   "id": "755cf748-3162-4986-b7d1-e35521427c02",
   "metadata": {},
   "outputs": [
    {
     "name": "stdout",
     "output_type": "stream",
     "text": [
      "       Unique ID  Indicator ID                                         Name  \\\n",
      "16213     130750           647            Outdoor Air Toxics - Formaldehyde   \n",
      "16214     130780           647            Outdoor Air Toxics - Formaldehyde   \n",
      "16215     131020           652  Cardiac and respiratory deaths due to Ozone   \n",
      "16216     131026           652  Cardiac and respiratory deaths due to Ozone   \n",
      "16217     325247           643                Annual vehicle miles traveled   \n",
      "\n",
      "                            Measure Measure Info Geo Type Name  Geo Join ID  \\\n",
      "16213  Annual average concentration        µg/m3         UHF42          211   \n",
      "16214  Annual average concentration        µg/m3       Borough            5   \n",
      "16215         Estimated annual rate  per 100,000         UHF42          504   \n",
      "16216         Estimated annual rate  per 100,000       Borough            5   \n",
      "16217                 million miles      per km2            CD          107   \n",
      "\n",
      "                  Geo Place Name Time Period  Start_Date  Data Value  Message  \n",
      "16213    Williamsburg - Bushwick        2005  01/01/2005         3.1      NaN  \n",
      "16214              Staten Island        2005  01/01/2005         2.3      NaN  \n",
      "16215  South Beach - Tottenville   2005-2007  01/01/2005         7.5      NaN  \n",
      "16216              Staten Island   2005-2007  01/01/2005         7.8      NaN  \n",
      "16217      Upper West Side (CD7)        2016  01/01/2016        50.0      NaN  \n"
     ]
    }
   ],
   "source": [
    "print(AirQuality.tail())"
   ]
  },
  {
   "cell_type": "code",
   "execution_count": 81,
   "id": "13c92035-a5a5-4011-a333-b708f618a621",
   "metadata": {},
   "outputs": [
    {
     "name": "stdout",
     "output_type": "stream",
     "text": [
      "           Unique ID  Indicator ID   Geo Join ID    Data Value  Message\n",
      "count   16218.000000  16218.000000  1.621800e+04  16218.000000      0.0\n",
      "mean   372730.417746    427.803613  6.097103e+05     19.975917      NaN\n",
      "std    215507.613560    110.921411  7.893388e+06     21.322349      NaN\n",
      "min    121644.000000    365.000000  1.000000e+00      0.000000      NaN\n",
      "25%    173211.250000    365.000000  2.020000e+02      9.050000      NaN\n",
      "50%    325262.500000    375.000000  3.030000e+02     15.300000      NaN\n",
      "75%    605270.750000    386.000000  4.040000e+02     26.037500      NaN\n",
      "max    799868.000000    661.000000  1.051061e+08    424.700000      NaN\n"
     ]
    }
   ],
   "source": [
    "print(AirQuality.describe())"
   ]
  },
  {
   "cell_type": "code",
   "execution_count": 83,
   "id": "e22bd2c3-a354-49b0-9e0a-dc2905fd94e3",
   "metadata": {},
   "outputs": [
    {
     "name": "stdout",
     "output_type": "stream",
     "text": [
      "<class 'pandas.core.frame.DataFrame'>\n",
      "RangeIndex: 16218 entries, 0 to 16217\n",
      "Data columns (total 12 columns):\n",
      " #   Column          Non-Null Count  Dtype  \n",
      "---  ------          --------------  -----  \n",
      " 0   Unique ID       16218 non-null  int64  \n",
      " 1   Indicator ID    16218 non-null  int64  \n",
      " 2   Name            16218 non-null  object \n",
      " 3   Measure         16218 non-null  object \n",
      " 4   Measure Info    16218 non-null  object \n",
      " 5   Geo Type Name   16218 non-null  object \n",
      " 6   Geo Join ID     16218 non-null  int64  \n",
      " 7   Geo Place Name  16218 non-null  object \n",
      " 8   Time Period     16218 non-null  object \n",
      " 9   Start_Date      16218 non-null  object \n",
      " 10  Data Value      16218 non-null  float64\n",
      " 11  Message         0 non-null      float64\n",
      "dtypes: float64(2), int64(3), object(7)\n",
      "memory usage: 1.5+ MB\n",
      "None\n"
     ]
    }
   ],
   "source": [
    "print(AirQuality.info())"
   ]
  },
  {
   "cell_type": "code",
   "execution_count": 85,
   "id": "48b1cdc2-278e-4c2b-85b9-92aa5fefe8fe",
   "metadata": {},
   "outputs": [],
   "source": [
    "AirQuality['index'] = pd.Series(range(0,16217))"
   ]
  },
  {
   "cell_type": "code",
   "execution_count": 87,
   "id": "b6ac3177-ae6a-4ffa-9ee3-1e94e5a70be9",
   "metadata": {},
   "outputs": [
    {
     "name": "stdout",
     "output_type": "stream",
     "text": [
      "   Unique ID  Indicator ID                    Name Measure Measure Info  \\\n",
      "0     172653           375  Nitrogen dioxide (NO2)    Mean          ppb   \n",
      "1     172585           375  Nitrogen dioxide (NO2)    Mean          ppb   \n",
      "2     336637           375  Nitrogen dioxide (NO2)    Mean          ppb   \n",
      "3     336622           375  Nitrogen dioxide (NO2)    Mean          ppb   \n",
      "4     172582           375  Nitrogen dioxide (NO2)    Mean          ppb   \n",
      "\n",
      "  Geo Type Name  Geo Join ID                      Geo Place Name  \\\n",
      "0         UHF34          203  Bedford Stuyvesant - Crown Heights   \n",
      "1         UHF34          203  Bedford Stuyvesant - Crown Heights   \n",
      "2         UHF34          204                       East New York   \n",
      "3         UHF34          103                  Fordham - Bronx Pk   \n",
      "4         UHF34          104                Pelham - Throgs Neck   \n",
      "\n",
      "           Time Period  Start_Date  Data Value  Message  index  \n",
      "0  Annual Average 2011  12/01/2010       25.30      NaN    0.0  \n",
      "1  Annual Average 2009  12/01/2008       26.93      NaN    1.0  \n",
      "2  Annual Average 2015  01/01/2015       19.09      NaN    2.0  \n",
      "3  Annual Average 2015  01/01/2015       19.76      NaN    3.0  \n",
      "4  Annual Average 2009  12/01/2008       22.83      NaN    4.0  \n"
     ]
    }
   ],
   "source": [
    "print(AirQuality.head())"
   ]
  },
  {
   "cell_type": "code",
   "execution_count": 89,
   "id": "de81deb4-5b63-4973-be9e-fe6649ff9ad3",
   "metadata": {},
   "outputs": [
    {
     "data": {
      "text/plain": [
       "(16218, 13)"
      ]
     },
     "execution_count": 89,
     "metadata": {},
     "output_type": "execute_result"
    }
   ],
   "source": [
    "AirQuality.shape"
   ]
  },
  {
   "cell_type": "code",
   "execution_count": 91,
   "id": "30685c4d-7043-41bd-892d-2166af4d0537",
   "metadata": {},
   "outputs": [
    {
     "name": "stdout",
     "output_type": "stream",
     "text": [
      "   Unique ID  Indicator ID                    Name Measure Measure Info  \\\n",
      "0     172653           375  Nitrogen dioxide (NO2)    Mean          ppb   \n",
      "1     172585           375  Nitrogen dioxide (NO2)    Mean          ppb   \n",
      "2     336637           375  Nitrogen dioxide (NO2)    Mean          ppb   \n",
      "3     336622           375  Nitrogen dioxide (NO2)    Mean          ppb   \n",
      "4     172582           375  Nitrogen dioxide (NO2)    Mean          ppb   \n",
      "\n",
      "  Geo Type Name  Geo Join ID                      Geo Place Name  \\\n",
      "0         UHF34          203  Bedford Stuyvesant - Crown Heights   \n",
      "1         UHF34          203  Bedford Stuyvesant - Crown Heights   \n",
      "2         UHF34          204                       East New York   \n",
      "3         UHF34          103                  Fordham - Bronx Pk   \n",
      "4         UHF34          104                Pelham - Throgs Neck   \n",
      "\n",
      "           Time Period  Start_Date  Data Value  Message  index  \n",
      "0  Annual Average 2011  12/01/2010       25.30      NaN    0.0  \n",
      "1  Annual Average 2009  12/01/2008       26.93      NaN    1.0  \n",
      "2  Annual Average 2015  01/01/2015       19.09      NaN    2.0  \n",
      "3  Annual Average 2015  01/01/2015       19.76      NaN    3.0  \n",
      "4  Annual Average 2009  12/01/2008       22.83      NaN    4.0  \n"
     ]
    }
   ],
   "source": [
    "print(AirQuality.head())"
   ]
  },
  {
   "cell_type": "code",
   "execution_count": 93,
   "id": "7d9e55e9-f269-4061-8bb2-1a91c8450f5e",
   "metadata": {},
   "outputs": [
    {
     "name": "stdout",
     "output_type": "stream",
     "text": [
      "[25.3  26.93 19.09 ... 45.43 70.7  29.6 ]\n"
     ]
    }
   ],
   "source": [
    "print(AirQuality[\"Data Value\"].unique())"
   ]
  },
  {
   "cell_type": "code",
   "execution_count": 95,
   "id": "21393600-c429-4eef-86cd-b5bf5f34565b",
   "metadata": {},
   "outputs": [],
   "source": [
    "import numpy as np"
   ]
  },
  {
   "cell_type": "code",
   "execution_count": 97,
   "id": "2948d723-f372-41e8-9fd2-86e69b33cda3",
   "metadata": {},
   "outputs": [
    {
     "data": {
      "text/plain": [
       "nan"
      ]
     },
     "execution_count": 97,
     "metadata": {},
     "output_type": "execute_result"
    }
   ],
   "source": [
    "np.NaN"
   ]
  },
  {
   "cell_type": "code",
   "execution_count": 205,
   "id": "5c60e140-d122-46fd-bb25-83cc0ae3b1d2",
   "metadata": {},
   "outputs": [],
   "source": [
    "AirQuality['Data Value'] = AirQuality['Data Value'].replace({70.7: np.NaN})"
   ]
  },
  {
   "cell_type": "code",
   "execution_count": 206,
   "id": "0b4746b3-62af-4ac1-846d-ca866ae4c27d",
   "metadata": {},
   "outputs": [
    {
     "name": "stdout",
     "output_type": "stream",
     "text": [
      "[25.3  26.93 19.09 ... 45.43   nan 29.6 ]\n"
     ]
    }
   ],
   "source": [
    "print(AirQuality['Data Value'].unique())"
   ]
  },
  {
   "cell_type": "code",
   "execution_count": 207,
   "id": "d2466cef-ee9f-4f1f-9a74-fefb25a8bcd8",
   "metadata": {},
   "outputs": [
    {
     "data": {
      "text/plain": [
       "<Axes: title={'center': 'Histogram of Air Quality'}, ylabel='Frequency'>"
      ]
     },
     "execution_count": 207,
     "metadata": {},
     "output_type": "execute_result"
    },
    {
     "data": {
      "image/png": "[encoded data removed]",
      "text/plain": [
       "<Figure size 640x480 with 1 Axes>"
      ]
     },
     "metadata": {},
     "output_type": "display_data"
    }
   ],
   "source": [
    "AirQuality['Data Value'].plot(kind = 'hist', title = 'Histogram of Air Quality')"
   ]
  },
  {
   "cell_type": "code",
   "execution_count": 208,
   "id": "350ec279-61b8-483c-be9c-621f77699656",
   "metadata": {},
   "outputs": [],
   "source": [
    "AirQuality[\"Data Value\"] = AirQuality['Data Value']"
   ]
  },
  {
   "cell_type": "code",
   "execution_count": 209,
   "id": "434e0d1b-e743-4ba4-88a9-d04e70aa6d37",
   "metadata": {},
   "outputs": [
    {
     "name": "stdout",
     "output_type": "stream",
     "text": [
      "       Unique ID  Indicator ID                                         Name  \\\n",
      "16213     130750           647            Outdoor Air Toxics - Formaldehyde   \n",
      "16214     130780           647            Outdoor Air Toxics - Formaldehyde   \n",
      "16215     131020           652  Cardiac and respiratory deaths due to Ozone   \n",
      "16216     131026           652  Cardiac and respiratory deaths due to Ozone   \n",
      "16217     325247           643                Annual vehicle miles traveled   \n",
      "\n",
      "                            Measure Measure Info Geo Type Name  Geo Join ID  \\\n",
      "16213  Annual average concentration        µg/m3         UHF42          211   \n",
      "16214  Annual average concentration        µg/m3       Borough            5   \n",
      "16215         Estimated annual rate  per 100,000         UHF42          504   \n",
      "16216         Estimated annual rate  per 100,000       Borough            5   \n",
      "16217                 million miles      per km2            CD          107   \n",
      "\n",
      "                  Geo Place Name Time Period  Start_Date  Data Value  Message  \\\n",
      "16213    Williamsburg - Bushwick        2005  01/01/2005         3.1      NaN   \n",
      "16214              Staten Island        2005  01/01/2005         2.3      NaN   \n",
      "16215  South Beach - Tottenville   2005-2007  01/01/2005         7.5      NaN   \n",
      "16216              Staten Island   2005-2007  01/01/2005         7.8      NaN   \n",
      "16217      Upper West Side (CD7)        2016  01/01/2016        50.0      NaN   \n",
      "\n",
      "         index  Quality_z  \n",
      "16213  16213.0        NaN  \n",
      "16214  16214.0        NaN  \n",
      "16215  16215.0        NaN  \n",
      "16216  16216.0        NaN  \n",
      "16217      NaN        NaN  \n"
     ]
    }
   ],
   "source": [
    "print(AirQuality.tail())"
   ]
  },
  {
   "cell_type": "code",
   "execution_count": 210,
   "id": "bcb870b8-8e5c-45de-bc00-88a21786f9c4",
   "metadata": {},
   "outputs": [
    {
     "name": "stdout",
     "output_type": "stream",
     "text": [
      "[25.3  26.93 19.09 ... 45.43   nan 29.6 ]\n"
     ]
    }
   ],
   "source": [
    "print(AirQuality['Data Value'].unique())"
   ]
  },
  {
   "cell_type": "code",
   "execution_count": 211,
   "id": "65e8c8a3-8c5b-4429-bc94-032c93e47e94",
   "metadata": {},
   "outputs": [],
   "source": [
    "Dictionary = {\"Data Value\"}"
   ]
  },
  {
   "cell_type": "code",
   "execution_count": null,
   "id": "d6cf163c-0ee6-4d9f-95cf-73443179b5bc",
   "metadata": {},
   "outputs": [],
   "source": []
  },
  {
   "cell_type": "code",
   "execution_count": 213,
   "id": "114c4d84-dfd3-4ec9-9e22-1542d8a8eeb5",
   "metadata": {},
   "outputs": [
    {
     "name": "stdout",
     "output_type": "stream",
     "text": [
      "   Unique ID  Indicator ID                    Name Measure Measure Info  \\\n",
      "0     172653           375  Nitrogen dioxide (NO2)    Mean          ppb   \n",
      "1     172585           375  Nitrogen dioxide (NO2)    Mean          ppb   \n",
      "2     336637           375  Nitrogen dioxide (NO2)    Mean          ppb   \n",
      "3     336622           375  Nitrogen dioxide (NO2)    Mean          ppb   \n",
      "4     172582           375  Nitrogen dioxide (NO2)    Mean          ppb   \n",
      "\n",
      "  Geo Type Name  Geo Join ID                      Geo Place Name  \\\n",
      "0         UHF34          203  Bedford Stuyvesant - Crown Heights   \n",
      "1         UHF34          203  Bedford Stuyvesant - Crown Heights   \n",
      "2         UHF34          204                       East New York   \n",
      "3         UHF34          103                  Fordham - Bronx Pk   \n",
      "4         UHF34          104                Pelham - Throgs Neck   \n",
      "\n",
      "           Time Period  Start_Date  Data Value  Message  index  Quality_z  \n",
      "0  Annual Average 2011  12/01/2010       25.30      NaN    0.0        NaN  \n",
      "1  Annual Average 2009  12/01/2008       26.93      NaN    1.0        NaN  \n",
      "2  Annual Average 2015  01/01/2015       19.09      NaN    2.0        NaN  \n",
      "3  Annual Average 2015  01/01/2015       19.76      NaN    3.0        NaN  \n",
      "4  Annual Average 2009  12/01/2008       22.83      NaN    4.0        NaN  \n"
     ]
    }
   ],
   "source": [
    "print(AirQuality.head())"
   ]
  },
  {
   "cell_type": "code",
   "execution_count": 214,
   "id": "3788b92b-7efa-4efd-9dc9-5b4e62f1f36b",
   "metadata": {},
   "outputs": [],
   "source": [
    "from scipy import stats "
   ]
  },
  {
   "cell_type": "code",
   "execution_count": 215,
   "id": "382277e6-996b-43c9-ab87-d7962290a055",
   "metadata": {},
   "outputs": [
    {
     "data": {
      "text/plain": [
       "<Axes: title={'center': 'Histogram of Air Quality'}, ylabel='Frequency'>"
      ]
     },
     "execution_count": 215,
     "metadata": {},
     "output_type": "execute_result"
    },
    {
     "data": {
      "image/png": "[encoded data removed]",
      "text/plain": [
       "<Figure size 640x480 with 1 Axes>"
      ]
     },
     "metadata": {},
     "output_type": "display_data"
    }
   ],
   "source": [
    "AirQuality['Data Value'].plot(kind = 'hist', title = 'Histogram of Air Quality')"
   ]
  },
  {
   "cell_type": "code",
   "execution_count": 216,
   "id": "f4bbfbc5-4be1-4813-a3e8-60f3398373e5",
   "metadata": {},
   "outputs": [],
   "source": [
    "AirQuality[\"Quality_z\"] = stats.zscore(AirQuality['Data Value'])"
   ]
  },
  {
   "cell_type": "code",
   "execution_count": 217,
   "id": "39cc5a41-4ba9-4367-8870-3956a8329797",
   "metadata": {},
   "outputs": [
    {
     "name": "stdout",
     "output_type": "stream",
     "text": [
      "0    NaN\n",
      "1    NaN\n",
      "2    NaN\n",
      "3    NaN\n",
      "4    NaN\n",
      "5    NaN\n",
      "6    NaN\n",
      "7    NaN\n",
      "8    NaN\n",
      "9    NaN\n",
      "10   NaN\n",
      "11   NaN\n",
      "12   NaN\n",
      "13   NaN\n",
      "14   NaN\n",
      "15   NaN\n",
      "16   NaN\n",
      "17   NaN\n",
      "18   NaN\n",
      "19   NaN\n",
      "20   NaN\n",
      "21   NaN\n",
      "22   NaN\n",
      "23   NaN\n",
      "24   NaN\n",
      "25   NaN\n",
      "26   NaN\n",
      "27   NaN\n",
      "28   NaN\n",
      "29   NaN\n",
      "30   NaN\n",
      "31   NaN\n",
      "32   NaN\n",
      "33   NaN\n",
      "34   NaN\n",
      "35   NaN\n",
      "36   NaN\n",
      "37   NaN\n",
      "38   NaN\n",
      "39   NaN\n",
      "40   NaN\n",
      "41   NaN\n",
      "42   NaN\n",
      "43   NaN\n",
      "44   NaN\n",
      "45   NaN\n",
      "46   NaN\n",
      "47   NaN\n",
      "48   NaN\n",
      "49   NaN\n",
      "Name: Quality_z, dtype: float64\n"
     ]
    }
   ],
   "source": [
    "print(AirQuality['Quality_z'].head(n=50))"
   ]
  },
  {
   "cell_type": "code",
   "execution_count": 218,
   "id": "f0906e23-df1e-430e-8ea5-165fa9413ce1",
   "metadata": {},
   "outputs": [
    {
     "data": {
      "text/html": [
       "<div>\n",
       "<style scoped>\n",
       "    .dataframe tbody tr th:only-of-type {\n",
       "        vertical-align: middle;\n",
       "    }\n",
       "\n",
       "    .dataframe tbody tr th {\n",
       "        vertical-align: top;\n",
       "    }\n",
       "\n",
       "    .dataframe thead th {\n",
       "        text-align: right;\n",
       "    }\n",
       "</style>\n",
       "<table border=\"1\" class=\"dataframe\">\n",
       "  <thead>\n",
       "    <tr style=\"text-align: right;\">\n",
       "      <th></th>\n",
       "      <th>Unique ID</th>\n",
       "      <th>Indicator ID</th>\n",
       "      <th>Name</th>\n",
       "      <th>Measure</th>\n",
       "      <th>Measure Info</th>\n",
       "      <th>Geo Type Name</th>\n",
       "      <th>Geo Join ID</th>\n",
       "      <th>Geo Place Name</th>\n",
       "      <th>Time Period</th>\n",
       "      <th>Start_Date</th>\n",
       "      <th>Data Value</th>\n",
       "      <th>Message</th>\n",
       "      <th>index</th>\n",
       "      <th>Quality_z</th>\n",
       "    </tr>\n",
       "  </thead>\n",
       "  <tbody>\n",
       "  </tbody>\n",
       "</table>\n",
       "</div>"
      ],
      "text/plain": [
       "Empty DataFrame\n",
       "Columns: [Unique ID, Indicator ID, Name, Measure, Measure Info, Geo Type Name, Geo Join ID, Geo Place Name, Time Period, Start_Date, Data Value, Message, index, Quality_z]\n",
       "Index: []"
      ]
     },
     "execution_count": 218,
     "metadata": {},
     "output_type": "execute_result"
    }
   ],
   "source": [
    "AirQuality.query('Quality_z > 3 | Quality_z < -3') "
   ]
  },
  {
   "cell_type": "code",
   "execution_count": 219,
   "id": "f6a6632e-6e58-4446-8223-33d4fd43e26a",
   "metadata": {},
   "outputs": [],
   "source": [
    "AirQuality_outliers = AirQuality.query('Quality_z > 3 | Quality_z < -3')"
   ]
  },
  {
   "cell_type": "code",
   "execution_count": 220,
   "id": "85020f38-1f9d-4fdf-bd2a-83a7d4696093",
   "metadata": {},
   "outputs": [
    {
     "name": "stdout",
     "output_type": "stream",
     "text": [
      "   Unique ID  Indicator ID                    Name Measure Measure Info  \\\n",
      "0     172653           375  Nitrogen dioxide (NO2)    Mean          ppb   \n",
      "1     172585           375  Nitrogen dioxide (NO2)    Mean          ppb   \n",
      "2     336637           375  Nitrogen dioxide (NO2)    Mean          ppb   \n",
      "3     336622           375  Nitrogen dioxide (NO2)    Mean          ppb   \n",
      "4     172582           375  Nitrogen dioxide (NO2)    Mean          ppb   \n",
      "\n",
      "  Geo Type Name  Geo Join ID                      Geo Place Name  \\\n",
      "0         UHF34          203  Bedford Stuyvesant - Crown Heights   \n",
      "1         UHF34          203  Bedford Stuyvesant - Crown Heights   \n",
      "2         UHF34          204                       East New York   \n",
      "3         UHF34          103                  Fordham - Bronx Pk   \n",
      "4         UHF34          104                Pelham - Throgs Neck   \n",
      "\n",
      "           Time Period  Start_Date  Data Value  Message  index  Quality_z  \n",
      "0  Annual Average 2011  12/01/2010       25.30      NaN    0.0        NaN  \n",
      "1  Annual Average 2009  12/01/2008       26.93      NaN    1.0        NaN  \n",
      "2  Annual Average 2015  01/01/2015       19.09      NaN    2.0        NaN  \n",
      "3  Annual Average 2015  01/01/2015       19.76      NaN    3.0        NaN  \n",
      "4  Annual Average 2009  12/01/2008       22.83      NaN    4.0        NaN  \n"
     ]
    }
   ],
   "source": [
    "print(AirQuality.head())"
   ]
  },
  {
   "cell_type": "code",
   "execution_count": 221,
   "id": "a6ed5bd4-10b2-48d9-853a-6ddd46046faa",
   "metadata": {},
   "outputs": [],
   "source": [
    "Quality_sort = AirQuality.sort_values(['Quality_z'], ascending = False)"
   ]
  },
  {
   "cell_type": "code",
   "execution_count": 222,
   "id": "c4db9680-234f-4c1e-ba18-8a274ac1f38c",
   "metadata": {},
   "outputs": [
    {
     "name": "stdout",
     "output_type": "stream",
     "text": [
      "    Data Value\n",
      "0        25.30\n",
      "1        26.93\n",
      "2        19.09\n",
      "3        19.76\n",
      "4        22.83\n",
      "5        16.19\n",
      "6        38.16\n",
      "7        34.96\n",
      "8        30.10\n",
      "9        20.23\n",
      "10       23.73\n",
      "11       26.00\n",
      "12       18.04\n",
      "13       28.44\n",
      "14       18.95\n"
     ]
    }
   ],
   "source": [
    "print(Quality_sort[['Data Value',]].head(n=15))"
   ]
  },
  {
   "cell_type": "code",
   "execution_count": null,
   "id": "ec43a24d-f9c8-43b3-b93b-9f3588f37225",
   "metadata": {},
   "outputs": [],
   "source": []
  },
  {
   "cell_type": "code",
   "execution_count": null,
   "id": "d28ddd85-e4f2-44e3-8519-b43d9270fade",
   "metadata": {},
   "outputs": [],
   "source": []
  }
 ],
 "metadata": {
  "kernelspec": {
   "display_name": "anaconda-panel-2023.05-py310",
   "language": "python",
   "name": "conda-env-anaconda-panel-2023.05-py310-py"
  },
  "language_info": {
   "codemirror_mode": {
    "name": "ipython",
    "version": 3
   },
   "file_extension": ".py",
   "mimetype": "text/x-python",
   "name": "python",
   "nbconvert_exporter": "python",
   "pygments_lexer": "ipython3",
   "version": "3.11.5"
  }
 },
 "nbformat": 4,
 "nbformat_minor": 5
}
